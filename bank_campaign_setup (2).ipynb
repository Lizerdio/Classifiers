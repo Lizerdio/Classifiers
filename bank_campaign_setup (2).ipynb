{
 "cells": [
  {
   "cell_type": "markdown",
   "id": "4e87d87b-bf26-452c-94c0-07e4c0e4643e",
   "metadata": {},
   "source": [
    "# SVM example: Universal Bank loan campaiKn customer modeling"
   ]
  },
  {
   "cell_type": "code",
   "execution_count": 2,
   "id": "3860132b-f46c-4ab8-9935-3cf8a5ce590a",
   "metadata": {},
   "outputs": [],
   "source": [
    "#imports\n",
    "import numpy as np\n",
    "import matplotlib.pyplot as plt\n",
    "import pandas as pd\n",
    "from sklearn.svm import SVC\n",
    "from sklearn.neighbors import KNeighborsClassifier\n",
    "from sklearn.linear_model import LogisticRegression\n",
    "from sklearn.model_selection import train_test_split\n",
    "from sklearn.model_selection import KFold\n",
    "from sklearn.preprocessing import StandardScaler\n",
    "from sklearn.metrics import accuracy_score"
   ]
  },
  {
   "cell_type": "markdown",
   "id": "4d5071a2-e9e4-4dcd-b019-ed472772467d",
   "metadata": {},
   "source": [
    "---\n",
    "\n",
    "## Injest data"
   ]
  },
  {
   "cell_type": "code",
   "execution_count": 3,
   "id": "46eee703-88e1-4bc8-b52d-d0b6f5cece68",
   "metadata": {},
   "outputs": [
    {
     "data": {
      "text/html": [
       "<div>\n",
       "<style scoped>\n",
       "    .dataframe tbody tr th:only-of-type {\n",
       "        vertical-align: middle;\n",
       "    }\n",
       "\n",
       "    .dataframe tbody tr th {\n",
       "        vertical-align: top;\n",
       "    }\n",
       "\n",
       "    .dataframe thead th {\n",
       "        text-align: right;\n",
       "    }\n",
       "</style>\n",
       "<table border=\"1\" class=\"dataframe\">\n",
       "  <thead>\n",
       "    <tr style=\"text-align: right;\">\n",
       "      <th></th>\n",
       "      <th>ID</th>\n",
       "      <th>Age</th>\n",
       "      <th>Experience</th>\n",
       "      <th>Income</th>\n",
       "      <th>ZIP Code</th>\n",
       "      <th>Family</th>\n",
       "      <th>CCAvg</th>\n",
       "      <th>Education</th>\n",
       "      <th>Mortgage</th>\n",
       "      <th>Personal Loan</th>\n",
       "      <th>Securities Account</th>\n",
       "      <th>CD Account</th>\n",
       "      <th>Online</th>\n",
       "      <th>CreditCard</th>\n",
       "    </tr>\n",
       "  </thead>\n",
       "  <tbody>\n",
       "    <tr>\n",
       "      <th>0</th>\n",
       "      <td>1</td>\n",
       "      <td>25</td>\n",
       "      <td>1</td>\n",
       "      <td>49</td>\n",
       "      <td>91107</td>\n",
       "      <td>4</td>\n",
       "      <td>1.6</td>\n",
       "      <td>1</td>\n",
       "      <td>0</td>\n",
       "      <td>0</td>\n",
       "      <td>1</td>\n",
       "      <td>0</td>\n",
       "      <td>0</td>\n",
       "      <td>0</td>\n",
       "    </tr>\n",
       "    <tr>\n",
       "      <th>1</th>\n",
       "      <td>2</td>\n",
       "      <td>45</td>\n",
       "      <td>19</td>\n",
       "      <td>34</td>\n",
       "      <td>90089</td>\n",
       "      <td>3</td>\n",
       "      <td>1.5</td>\n",
       "      <td>1</td>\n",
       "      <td>0</td>\n",
       "      <td>0</td>\n",
       "      <td>1</td>\n",
       "      <td>0</td>\n",
       "      <td>0</td>\n",
       "      <td>0</td>\n",
       "    </tr>\n",
       "    <tr>\n",
       "      <th>2</th>\n",
       "      <td>3</td>\n",
       "      <td>39</td>\n",
       "      <td>15</td>\n",
       "      <td>11</td>\n",
       "      <td>94720</td>\n",
       "      <td>1</td>\n",
       "      <td>1.0</td>\n",
       "      <td>1</td>\n",
       "      <td>0</td>\n",
       "      <td>0</td>\n",
       "      <td>0</td>\n",
       "      <td>0</td>\n",
       "      <td>0</td>\n",
       "      <td>0</td>\n",
       "    </tr>\n",
       "    <tr>\n",
       "      <th>3</th>\n",
       "      <td>4</td>\n",
       "      <td>35</td>\n",
       "      <td>9</td>\n",
       "      <td>100</td>\n",
       "      <td>94112</td>\n",
       "      <td>1</td>\n",
       "      <td>2.7</td>\n",
       "      <td>2</td>\n",
       "      <td>0</td>\n",
       "      <td>0</td>\n",
       "      <td>0</td>\n",
       "      <td>0</td>\n",
       "      <td>0</td>\n",
       "      <td>0</td>\n",
       "    </tr>\n",
       "    <tr>\n",
       "      <th>4</th>\n",
       "      <td>5</td>\n",
       "      <td>35</td>\n",
       "      <td>8</td>\n",
       "      <td>45</td>\n",
       "      <td>91330</td>\n",
       "      <td>4</td>\n",
       "      <td>1.0</td>\n",
       "      <td>2</td>\n",
       "      <td>0</td>\n",
       "      <td>0</td>\n",
       "      <td>0</td>\n",
       "      <td>0</td>\n",
       "      <td>0</td>\n",
       "      <td>1</td>\n",
       "    </tr>\n",
       "  </tbody>\n",
       "</table>\n",
       "</div>"
      ],
      "text/plain": [
       "   ID  Age  Experience  Income  ZIP Code  Family  CCAvg  Education  Mortgage  \\\n",
       "0   1   25           1      49     91107       4    1.6          1         0   \n",
       "1   2   45          19      34     90089       3    1.5          1         0   \n",
       "2   3   39          15      11     94720       1    1.0          1         0   \n",
       "3   4   35           9     100     94112       1    2.7          2         0   \n",
       "4   5   35           8      45     91330       4    1.0          2         0   \n",
       "\n",
       "   Personal Loan  Securities Account  CD Account  Online  CreditCard  \n",
       "0              0                   1           0       0           0  \n",
       "1              0                   1           0       0           0  \n",
       "2              0                   0           0       0           0  \n",
       "3              0                   0           0       0           0  \n",
       "4              0                   0           0       0           1  "
      ]
     },
     "execution_count": 3,
     "metadata": {},
     "output_type": "execute_result"
    }
   ],
   "source": [
    "df = pd.read_csv('UniversalBank.csv')\n",
    "df.head()"
   ]
  },
  {
   "cell_type": "code",
   "execution_count": 4,
   "id": "3c76c1de-bd0e-447e-8468-132e5cfece4d",
   "metadata": {},
   "outputs": [
    {
     "name": "stdout",
     "output_type": "stream",
     "text": [
      "<class 'pandas.core.frame.DataFrame'>\n",
      "RangeIndex: 5000 entries, 0 to 4999\n",
      "Data columns (total 14 columns):\n",
      " #   Column              Non-Null Count  Dtype  \n",
      "---  ------              --------------  -----  \n",
      " 0   ID                  5000 non-null   int64  \n",
      " 1   Age                 5000 non-null   int64  \n",
      " 2   Experience          5000 non-null   int64  \n",
      " 3   Income              5000 non-null   int64  \n",
      " 4   ZIP Code            5000 non-null   int64  \n",
      " 5   Family              5000 non-null   int64  \n",
      " 6   CCAvg               5000 non-null   float64\n",
      " 7   Education           5000 non-null   int64  \n",
      " 8   Mortgage            5000 non-null   int64  \n",
      " 9   Personal Loan       5000 non-null   int64  \n",
      " 10  Securities Account  5000 non-null   int64  \n",
      " 11  CD Account          5000 non-null   int64  \n",
      " 12  Online              5000 non-null   int64  \n",
      " 13  CreditCard          5000 non-null   int64  \n",
      "dtypes: float64(1), int64(13)\n",
      "memory usage: 547.0 KB\n"
     ]
    }
   ],
   "source": [
    "df.info()"
   ]
  },
  {
   "cell_type": "markdown",
   "id": "acb52944-5530-4720-9213-200d19c99509",
   "metadata": {},
   "source": [
    "#### Data is *dense* (no missing values) and numerical."
   ]
  },
  {
   "cell_type": "code",
   "execution_count": 5,
   "id": "ae4162d9-5dc0-4446-a5a4-c21acb26d374",
   "metadata": {},
   "outputs": [
    {
     "data": {
      "text/plain": [
       "Index(['ID', 'Age', 'Experience', 'Income', 'ZIP Code', 'Family', 'CCAvg',\n",
       "       'Education', 'Mortgage', 'Personal Loan', 'Securities Account',\n",
       "       'CD Account', 'Online', 'CreditCard'],\n",
       "      dtype='object')"
      ]
     },
     "execution_count": 5,
     "metadata": {},
     "output_type": "execute_result"
    }
   ],
   "source": [
    "df.columns"
   ]
  },
  {
   "cell_type": "code",
   "execution_count": 6,
   "id": "9e82b42c-0fa0-4398-945a-44d0d923c988",
   "metadata": {},
   "outputs": [],
   "source": [
    "Xcols = ['Age', 'Experience', 'Income', 'Family', 'CCAvg',\n",
    "       'Education', 'Mortgage', 'Securities Account',\n",
    "       'CD Account', 'Online', 'CreditCard']"
   ]
  },
  {
   "cell_type": "code",
   "execution_count": 7,
   "id": "9ddac4b8-e4b5-42a2-82d3-815682ce405e",
   "metadata": {},
   "outputs": [],
   "source": [
    "X = df[Xcols]\n",
    "y = df['Personal Loan']"
   ]
  },
  {
   "cell_type": "markdown",
   "id": "9d8e3a23-ebe5-48af-ad21-3afeae350a9a",
   "metadata": {},
   "source": [
    "### Standardize X"
   ]
  },
  {
   "cell_type": "code",
   "execution_count": 8,
   "id": "28ace937-9ca7-4093-8768-a6a3507c2a50",
   "metadata": {},
   "outputs": [],
   "source": [
    "scaler = StandardScaler()\n",
    "Xs = scaler.fit_transform(X)"
   ]
  },
  {
   "cell_type": "code",
   "execution_count": 9,
   "id": "289eb793-5371-4a6f-b4f4-e367cc6c0237",
   "metadata": {},
   "outputs": [
    {
     "data": {
      "text/plain": [
       "array([[-1.77441684, -1.66607847, -0.53822878,  1.39741398, -0.19338544,\n",
       "        -1.04907792, -0.55552393,  2.92891517, -0.25354028, -1.21661774,\n",
       "        -0.64531434],\n",
       "       [-0.02952359, -0.09633022, -0.8641094 ,  0.52599094, -0.25061056,\n",
       "        -1.04907792, -0.55552393,  2.92891517, -0.25354028, -1.21661774,\n",
       "        -0.64531434],\n",
       "       [-0.55299157, -0.44516316, -1.36379301, -1.21685513, -0.53673618,\n",
       "        -1.04907792, -0.55552393, -0.34142334, -0.25354028, -1.21661774,\n",
       "        -0.64531434]])"
      ]
     },
     "execution_count": 9,
     "metadata": {},
     "output_type": "execute_result"
    }
   ],
   "source": [
    "Xs[:3]"
   ]
  },
  {
   "cell_type": "code",
   "execution_count": 10,
   "id": "3e12cb11-6f72-4a68-9166-3c10b6834bf4",
   "metadata": {},
   "outputs": [
    {
     "data": {
      "text/plain": [
       "(array([-2.13162821e-18, -1.17950094e-16,  1.44950718e-16,  1.00186526e-16,\n",
       "        -6.39488462e-17,  2.55795385e-17, -5.61328761e-17, -2.27373675e-17,\n",
       "         2.13162821e-17,  4.12114787e-17,  7.10542736e-18]),\n",
       " array([1., 1., 1., 1., 1., 1., 1., 1., 1., 1., 1.]))"
      ]
     },
     "execution_count": 10,
     "metadata": {},
     "output_type": "execute_result"
    }
   ],
   "source": [
    "Xs.mean(axis=0), Xs.std(axis=0)"
   ]
  },
  {
   "cell_type": "markdown",
   "id": "d3f19446-cc26-4fb2-ae5f-271b91d03ad3",
   "metadata": {},
   "source": [
    "## SVM Model"
   ]
  },
  {
   "cell_type": "code",
   "execution_count": 11,
   "id": "52fba9b7-0e7a-4a25-b051-3d3247e14cae",
   "metadata": {},
   "outputs": [
    {
     "name": "stdout",
     "output_type": "stream",
     "text": [
      "g =0.01\n",
      "g =0.1\n",
      "g =0.5\n",
      "g =1\n",
      "g =2\n"
     ]
    },
    {
     "data": {
      "text/plain": [
       "<ErrorbarContainer object of 3 artists>"
      ]
     },
     "execution_count": 11,
     "metadata": {},
     "output_type": "execute_result"
    },
    {
     "data": {
      "image/png": "[encoded data removed]",
      "text/plain": [
       "<Figure size 640x480 with 1 Axes>"
      ]
     },
     "metadata": {},
     "output_type": "display_data"
    }
   ],
   "source": [
    "hyper_mean = []\n",
    "hyper_std = []\n",
    "kf = KFold(5)\n",
    "hyper_g = [0.01, 0.1, 0.5, 1, 2]\n",
    "\n",
    "for g in hyper_g:\n",
    "    print(f'g ={g}')\n",
    "    svm = SVC(gamma = g)\n",
    "    svm_kf_results = np.array([])\n",
    "    for train_ind, test_ind in kf.split(Xs):\n",
    "        Xtrain, Xtest = Xs[train_ind], Xs[test_ind]\n",
    "        ytrain, ytest = y[train_ind], y[test_ind]\n",
    "        svm.fit(Xtrain, ytrain)\n",
    "        ypred = svm.predict(Xtest)\n",
    "        acc = accuracy_score(ytest, ypred)\n",
    "        svm_kf_results = np.append(svm_kf_results, acc)\n",
    "    hyper_mean.append(svm_kf_results.mean())\n",
    "    hyper_std.append(svm_kf_results.std())\n",
    "\n",
    "plt.errorbar(range(len(hyper_g)), hyper_mean, hyper_std, fmt='o')"
   ]
  },
  {
   "cell_type": "markdown",
   "id": "35bc44bd-9c19-4df8-9a83-60ad8ec156c5",
   "metadata": {},
   "source": [
    "gamma = 0.1 overall best hyperparameter value"
   ]
  },
  {
   "cell_type": "markdown",
   "id": "97c7d594-6812-4b1e-92fa-f5c86e0884a6",
   "metadata": {},
   "source": [
    "## KNN Model"
   ]
  },
  {
   "cell_type": "code",
   "execution_count": 12,
   "id": "cfb0daec-dfea-43c5-a2a6-8e1641656cfa",
   "metadata": {},
   "outputs": [
    {
     "name": "stdout",
     "output_type": "stream",
     "text": [
      "K =3\n",
      "K =5\n",
      "K =7\n",
      "K =9\n",
      "K =11\n",
      "K =13\n",
      "K =15\n",
      "K =17\n",
      "K =19\n"
     ]
    },
    {
     "data": {
      "text/plain": [
       "<ErrorbarContainer object of 3 artists>"
      ]
     },
     "execution_count": 12,
     "metadata": {},
     "output_type": "execute_result"
    },
    {
     "data": {
      "image/png": "[encoded data removed]",
      "text/plain": [
       "<Figure size 640x480 with 1 Axes>"
      ]
     },
     "metadata": {},
     "output_type": "display_data"
    }
   ],
   "source": [
    "hyper_mean = []\n",
    "hyper_std = []\n",
    "kf = KFold(5)\n",
    "\n",
    "start = 3 \n",
    "end = 21 \n",
    "\n",
    "for i in range(start, end, 2):\n",
    "    print(f'K ={i}')\n",
    "    KNN = KNeighborsClassifier(n_neighbors = i)\n",
    "    KNN_kf_results = np.array([])\n",
    "    for train_ind, test_ind in kf.split(Xs):\n",
    "        Xtrain, Xtest = Xs[train_ind], Xs[test_ind]\n",
    "        ytrain, ytest = y[train_ind], y[test_ind]\n",
    "        KNN.fit(Xtrain, ytrain)\n",
    "        ypred = KNN.predict(Xtest)\n",
    "        acc = accuracy_score(ytest, ypred)\n",
    "        KNN_kf_results = np.append(KNN_kf_results, acc)\n",
    "    hyper_mean.append(KNN_kf_results.mean())\n",
    "    hyper_std.append(KNN_kf_results.std())\n",
    "\n",
    "plt.errorbar(range(start,end,2), hyper_mean, hyper_std, fmt='o')"
   ]
  },
  {
   "cell_type": "markdown",
   "id": "65de6460-98bf-4a55-b4fd-db58a89ae130",
   "metadata": {},
   "source": [
    "k = 3 overall best hyperparameter value"
   ]
  },
  {
   "cell_type": "markdown",
   "id": "0429e975-a96d-4968-8f83-39554a840432",
   "metadata": {},
   "source": [
    "## Logistic Model"
   ]
  },
  {
   "cell_type": "code",
   "execution_count": 22,
   "id": "eb6a2008-613d-4f95-9875-1accabee6f50",
   "metadata": {},
   "outputs": [
    {
     "name": "stdout",
     "output_type": "stream",
     "text": [
      "g =1\n",
      "g =2\n",
      "g =3\n",
      "g =4\n",
      "g =5\n",
      "g =6\n",
      "g =7\n",
      "g =8\n",
      "g =9\n"
     ]
    },
    {
     "data": {
      "text/plain": [
       "<ErrorbarContainer object of 3 artists>"
      ]
     },
     "execution_count": 22,
     "metadata": {},
     "output_type": "execute_result"
    },
    {
     "data": {
      "image/png": "[encoded data removed]",
      "text/plain": [
       "<Figure size 640x480 with 1 Axes>"
      ]
     },
     "metadata": {},
     "output_type": "display_data"
    }
   ],
   "source": [
    "hyper_mean = []\n",
    "hyper_std = []\n",
    "start = 1 \n",
    "end = 10\n",
    "\n",
    "kf = KFold(5)\n",
    "\n",
    "for i in range(start, end):\n",
    "    print(f'g ={i}')\n",
    "    log = LogisticRegression(C = i)\n",
    "    log_kf_results = np.array([])\n",
    "    for train_ind, test_ind in kf.split(Xs):\n",
    "        Xtrain, Xtest = Xs[train_ind], Xs[test_ind]\n",
    "        ytrain, ytest = y[train_ind], y[test_ind]\n",
    "        log.fit(Xtrain, ytrain)\n",
    "        ypred = log.predict(Xtest)\n",
    "        acc = accuracy_score(ytest, ypred)\n",
    "        log_kf_results = np.append(log_kf_results, acc)\n",
    "    hyper_mean.append(log_kf_results.mean())\n",
    "    hyper_std.append(log_kf_results.std())\n",
    "\n",
    "plt.errorbar(range(start, end), hyper_mean, hyper_std, fmt='o')"
   ]
  },
  {
   "cell_type": "code",
   "execution_count": 23,
   "id": "44e04645-dd76-4212-9831-124dad0c13a3",
   "metadata": {},
   "outputs": [
    {
     "name": "stdout",
     "output_type": "stream",
     "text": [
      "g =0.01\n",
      "g =0.1\n",
      "g =0.25\n",
      "g =0.5\n",
      "g =1\n"
     ]
    },
    {
     "data": {
      "text/plain": [
       "<ErrorbarContainer object of 3 artists>"
      ]
     },
     "execution_count": 23,
     "metadata": {},
     "output_type": "execute_result"
    },
    {
     "data": {
      "image/png": "[encoded data removed]",
      "text/plain": [
       "<Figure size 640x480 with 1 Axes>"
      ]
     },
     "metadata": {},
     "output_type": "display_data"
    }
   ],
   "source": [
    "hyper_mean = []\n",
    "hyper_std = []\n",
    "hyper_c = [0.01, 0.1, 0.25, 0.5, 1]\n",
    "kf = KFold(5)\n",
    "\n",
    "for c in hyper_c:\n",
    "    print(f'g ={c}')\n",
    "    log = LogisticRegression(C = c)\n",
    "    log_kf_results = np.array([])\n",
    "    for train_ind, test_ind in kf.split(Xs):\n",
    "        Xtrain, Xtest = Xs[train_ind], Xs[test_ind]\n",
    "        ytrain, ytest = y[train_ind], y[test_ind]\n",
    "        log.fit(Xtrain, ytrain)\n",
    "        ypred = log.predict(Xtest)\n",
    "        acc = accuracy_score(ytest, ypred)\n",
    "        log_kf_results = np.append(log_kf_results, acc)\n",
    "    hyper_mean.append(log_kf_results.mean())\n",
    "    hyper_std.append(log_kf_results.std())\n",
    "\n",
    "plt.errorbar(range(len(hyper_c)), hyper_mean, hyper_std, fmt='o')"
   ]
  },
  {
   "cell_type": "markdown",
   "id": "7c495f1e-6a5f-4c2e-a924-40393520f46c",
   "metadata": {},
   "source": [
    "c = 0.1 overall best hyperparameter value"
   ]
  },
  {
   "cell_type": "markdown",
   "id": "4109ba17-b76d-4acf-a778-4798babe6d60",
   "metadata": {},
   "source": [
    "## New Customer Prediction\n",
    "SVM model with hyperparameter gamma set to 0.1 has the best accuracy and smallest std\n"
   ]
  },
  {
   "cell_type": "code",
   "execution_count": 13,
   "id": "0dff4f2c-85a5-4460-a7de-b4934254330a",
   "metadata": {},
   "outputs": [
    {
     "data": {
      "text/html": [
       "<div>\n",
       "<style scoped>\n",
       "    .dataframe tbody tr th:only-of-type {\n",
       "        vertical-align: middle;\n",
       "    }\n",
       "\n",
       "    .dataframe tbody tr th {\n",
       "        vertical-align: top;\n",
       "    }\n",
       "\n",
       "    .dataframe thead th {\n",
       "        text-align: right;\n",
       "    }\n",
       "</style>\n",
       "<table border=\"1\" class=\"dataframe\">\n",
       "  <thead>\n",
       "    <tr style=\"text-align: right;\">\n",
       "      <th></th>\n",
       "      <th>ID</th>\n",
       "      <th>Age</th>\n",
       "      <th>Experience</th>\n",
       "      <th>Income</th>\n",
       "      <th>ZIP Code</th>\n",
       "      <th>Family</th>\n",
       "      <th>CCAvg</th>\n",
       "      <th>Education</th>\n",
       "      <th>Mortgage</th>\n",
       "      <th>Personal Loan</th>\n",
       "      <th>Securities Account</th>\n",
       "      <th>CD Account</th>\n",
       "      <th>Online</th>\n",
       "      <th>CreditCard</th>\n",
       "    </tr>\n",
       "  </thead>\n",
       "  <tbody>\n",
       "    <tr>\n",
       "      <th>0</th>\n",
       "      <td>5001</td>\n",
       "      <td>40</td>\n",
       "      <td>10</td>\n",
       "      <td>84</td>\n",
       "      <td>95211</td>\n",
       "      <td>2</td>\n",
       "      <td>2</td>\n",
       "      <td>1</td>\n",
       "      <td>0</td>\n",
       "      <td>NaN</td>\n",
       "      <td>0</td>\n",
       "      <td>0</td>\n",
       "      <td>1</td>\n",
       "      <td>1</td>\n",
       "    </tr>\n",
       "  </tbody>\n",
       "</table>\n",
       "</div>"
      ],
      "text/plain": [
       "     ID  Age  Experience  Income  ZIP Code  Family  CCAvg  Education  \\\n",
       "0  5001   40          10      84     95211       2      2          1   \n",
       "\n",
       "   Mortgage  Personal Loan  Securities Account  CD Account  Online  CreditCard  \n",
       "0         0            NaN                   0           0       1           1  "
      ]
     },
     "execution_count": 13,
     "metadata": {},
     "output_type": "execute_result"
    }
   ],
   "source": [
    "df2 = pd.read_csv(\"bank_new_customers.csv\")\n",
    "df2"
   ]
  },
  {
   "cell_type": "code",
   "execution_count": 14,
   "id": "79546022-1d2b-432a-a6cf-45b55e86254e",
   "metadata": {},
   "outputs": [],
   "source": [
    "x = df2[Xcols]"
   ]
  },
  {
   "cell_type": "code",
   "execution_count": 24,
   "id": "85600faf-55e2-4365-abc5-b43cd5d234a7",
   "metadata": {},
   "outputs": [],
   "source": [
    "Xnew = scaler.fit_transform(x)\n",
    "x_train, x_test, y_train, y_test = train_test_split(Xs, y)"
   ]
  },
  {
   "cell_type": "code",
   "execution_count": 25,
   "id": "75d45a9b-868f-4e41-bd57-6e444081fd6f",
   "metadata": {},
   "outputs": [],
   "source": [
    "svm = SVC(gamma = 0.1)\n",
    "svm = svm.fit(Xtrain, ytrain)"
   ]
  },
  {
   "cell_type": "code",
   "execution_count": 26,
   "id": "b32c1efa-5086-407d-8ea5-fba245f76c33",
   "metadata": {},
   "outputs": [
    {
     "name": "stdout",
     "output_type": "stream",
     "text": [
      "[0]\n"
     ]
    }
   ],
   "source": [
    "print(svm.predict(Xnew))"
   ]
  },
  {
   "cell_type": "markdown",
   "id": "cd01a348-026f-42b2-9aef-ce4b6b4b58e1",
   "metadata": {},
   "source": [
    "Prediction the new customer will not accept the loan offer"
   ]
  }
 ],
 "metadata": {
  "kernelspec": {
   "display_name": "Python 3 (ipykernel)",
   "language": "python",
   "name": "python3"
  },
  "language_info": {
   "codemirror_mode": {
    "name": "ipython",
    "version": 3
   },
   "file_extension": ".py",
   "mimetype": "text/x-python",
   "name": "python",
   "nbconvert_exporter": "python",
   "pygments_lexer": "ipython3",
   "version": "3.12.3"
  }
 },
 "nbformat": 4,
 "nbformat_minor": 5
}
